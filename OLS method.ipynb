{
 "cells": [
  {
   "cell_type": "code",
   "execution_count": 1,
   "metadata": {},
   "outputs": [],
   "source": [
    "import numpy as np\n",
    "import pandas as pd"
   ]
  },
  {
   "cell_type": "code",
   "execution_count": 2,
   "metadata": {},
   "outputs": [],
   "source": [
    "df = pd.read_excel(\"housepriceair_final.xlsx\")"
   ]
  },
  {
   "cell_type": "code",
   "execution_count": 3,
   "metadata": {},
   "outputs": [
    {
     "data": {
      "text/html": [
       "<div>\n",
       "<style scoped>\n",
       "    .dataframe tbody tr th:only-of-type {\n",
       "        vertical-align: middle;\n",
       "    }\n",
       "\n",
       "    .dataframe tbody tr th {\n",
       "        vertical-align: top;\n",
       "    }\n",
       "\n",
       "    .dataframe thead th {\n",
       "        text-align: right;\n",
       "    }\n",
       "</style>\n",
       "<table border=\"1\" class=\"dataframe\">\n",
       "  <thead>\n",
       "    <tr style=\"text-align: right;\">\n",
       "      <th></th>\n",
       "      <th>constant</th>\n",
       "      <th>CT</th>\n",
       "      <th>o_station</th>\n",
       "      <th>month</th>\n",
       "      <th>hp</th>\n",
       "      <th>air</th>\n",
       "      <th>pop</th>\n",
       "      <th>inc</th>\n",
       "      <th>d_tra1</th>\n",
       "      <th>h_age</th>\n",
       "      <th>h_area</th>\n",
       "      <th>PM2.5</th>\n",
       "      <th>SO2</th>\n",
       "      <th>d_north</th>\n",
       "      <th>d_middle</th>\n",
       "      <th>d_east</th>\n",
       "    </tr>\n",
       "  </thead>\n",
       "  <tbody>\n",
       "    <tr>\n",
       "      <th>0</th>\n",
       "      <td>1</td>\n",
       "      <td>宜蘭縣</td>\n",
       "      <td>冬山(冬山區)</td>\n",
       "      <td>1</td>\n",
       "      <td>221751.6190</td>\n",
       "      <td>27.01</td>\n",
       "      <td>665.852742</td>\n",
       "      <td>590</td>\n",
       "      <td>1</td>\n",
       "      <td>9.967200</td>\n",
       "      <td>32.968091</td>\n",
       "      <td>11.6</td>\n",
       "      <td>2.3</td>\n",
       "      <td>1</td>\n",
       "      <td>0</td>\n",
       "      <td>0</td>\n",
       "    </tr>\n",
       "    <tr>\n",
       "      <th>1</th>\n",
       "      <td>1</td>\n",
       "      <td>宜蘭縣</td>\n",
       "      <td>冬山(冬山區)</td>\n",
       "      <td>2</td>\n",
       "      <td>174516.1957</td>\n",
       "      <td>35.54</td>\n",
       "      <td>665.802655</td>\n",
       "      <td>590</td>\n",
       "      <td>1</td>\n",
       "      <td>14.800000</td>\n",
       "      <td>61.073182</td>\n",
       "      <td>10.4</td>\n",
       "      <td>1.9</td>\n",
       "      <td>1</td>\n",
       "      <td>0</td>\n",
       "      <td>0</td>\n",
       "    </tr>\n",
       "    <tr>\n",
       "      <th>2</th>\n",
       "      <td>1</td>\n",
       "      <td>宜蘭縣</td>\n",
       "      <td>冬山(冬山區)</td>\n",
       "      <td>3</td>\n",
       "      <td>143657.7154</td>\n",
       "      <td>38.72</td>\n",
       "      <td>664.750814</td>\n",
       "      <td>590</td>\n",
       "      <td>1</td>\n",
       "      <td>18.526300</td>\n",
       "      <td>50.280697</td>\n",
       "      <td>21.9</td>\n",
       "      <td>2.4</td>\n",
       "      <td>1</td>\n",
       "      <td>0</td>\n",
       "      <td>0</td>\n",
       "    </tr>\n",
       "    <tr>\n",
       "      <th>3</th>\n",
       "      <td>1</td>\n",
       "      <td>宜蘭縣</td>\n",
       "      <td>冬山(冬山區)</td>\n",
       "      <td>4</td>\n",
       "      <td>181408.3219</td>\n",
       "      <td>51.12</td>\n",
       "      <td>663.110443</td>\n",
       "      <td>590</td>\n",
       "      <td>1</td>\n",
       "      <td>16.758600</td>\n",
       "      <td>46.637697</td>\n",
       "      <td>13.8</td>\n",
       "      <td>3.2</td>\n",
       "      <td>1</td>\n",
       "      <td>0</td>\n",
       "      <td>0</td>\n",
       "    </tr>\n",
       "    <tr>\n",
       "      <th>4</th>\n",
       "      <td>1</td>\n",
       "      <td>宜蘭縣</td>\n",
       "      <td>冬山(冬山區)</td>\n",
       "      <td>5</td>\n",
       "      <td>157317.5083</td>\n",
       "      <td>36.50</td>\n",
       "      <td>663.536188</td>\n",
       "      <td>590</td>\n",
       "      <td>1</td>\n",
       "      <td>13.666600</td>\n",
       "      <td>50.577636</td>\n",
       "      <td>11.8</td>\n",
       "      <td>2.4</td>\n",
       "      <td>1</td>\n",
       "      <td>0</td>\n",
       "      <td>0</td>\n",
       "    </tr>\n",
       "    <tr>\n",
       "      <th>...</th>\n",
       "      <td>...</td>\n",
       "      <td>...</td>\n",
       "      <td>...</td>\n",
       "      <td>...</td>\n",
       "      <td>...</td>\n",
       "      <td>...</td>\n",
       "      <td>...</td>\n",
       "      <td>...</td>\n",
       "      <td>...</td>\n",
       "      <td>...</td>\n",
       "      <td>...</td>\n",
       "      <td>...</td>\n",
       "      <td>...</td>\n",
       "      <td>...</td>\n",
       "      <td>...</td>\n",
       "      <td>...</td>\n",
       "    </tr>\n",
       "    <tr>\n",
       "      <th>847</th>\n",
       "      <td>1</td>\n",
       "      <td>臺南市</td>\n",
       "      <td>臺南(中西區)</td>\n",
       "      <td>8</td>\n",
       "      <td>190143.3828</td>\n",
       "      <td>25.41</td>\n",
       "      <td>12450.798720</td>\n",
       "      <td>655</td>\n",
       "      <td>1</td>\n",
       "      <td>23.827586</td>\n",
       "      <td>58.289812</td>\n",
       "      <td>34.8</td>\n",
       "      <td>2.8</td>\n",
       "      <td>0</td>\n",
       "      <td>0</td>\n",
       "      <td>0</td>\n",
       "    </tr>\n",
       "    <tr>\n",
       "      <th>848</th>\n",
       "      <td>1</td>\n",
       "      <td>臺南市</td>\n",
       "      <td>臺南(中西區)</td>\n",
       "      <td>9</td>\n",
       "      <td>174250.0904</td>\n",
       "      <td>46.89</td>\n",
       "      <td>12458.785940</td>\n",
       "      <td>655</td>\n",
       "      <td>1</td>\n",
       "      <td>24.596154</td>\n",
       "      <td>50.410140</td>\n",
       "      <td>7.8</td>\n",
       "      <td>1.5</td>\n",
       "      <td>0</td>\n",
       "      <td>0</td>\n",
       "      <td>0</td>\n",
       "    </tr>\n",
       "    <tr>\n",
       "      <th>849</th>\n",
       "      <td>1</td>\n",
       "      <td>臺南市</td>\n",
       "      <td>臺南(中西區)</td>\n",
       "      <td>10</td>\n",
       "      <td>169953.1429</td>\n",
       "      <td>67.50</td>\n",
       "      <td>12474.920130</td>\n",
       "      <td>655</td>\n",
       "      <td>1</td>\n",
       "      <td>24.698413</td>\n",
       "      <td>48.557143</td>\n",
       "      <td>6.9</td>\n",
       "      <td>1.2</td>\n",
       "      <td>0</td>\n",
       "      <td>0</td>\n",
       "      <td>0</td>\n",
       "    </tr>\n",
       "    <tr>\n",
       "      <th>850</th>\n",
       "      <td>1</td>\n",
       "      <td>臺南市</td>\n",
       "      <td>臺南(中西區)</td>\n",
       "      <td>11</td>\n",
       "      <td>164338.8639</td>\n",
       "      <td>68.77</td>\n",
       "      <td>12480.191690</td>\n",
       "      <td>655</td>\n",
       "      <td>1</td>\n",
       "      <td>29.655738</td>\n",
       "      <td>53.865176</td>\n",
       "      <td>8.4</td>\n",
       "      <td>1.3</td>\n",
       "      <td>0</td>\n",
       "      <td>0</td>\n",
       "      <td>0</td>\n",
       "    </tr>\n",
       "    <tr>\n",
       "      <th>851</th>\n",
       "      <td>1</td>\n",
       "      <td>臺南市</td>\n",
       "      <td>臺南(中西區)</td>\n",
       "      <td>12</td>\n",
       "      <td>171902.2292</td>\n",
       "      <td>72.22</td>\n",
       "      <td>12486.741210</td>\n",
       "      <td>655</td>\n",
       "      <td>1</td>\n",
       "      <td>27.107692</td>\n",
       "      <td>59.607972</td>\n",
       "      <td>3.7</td>\n",
       "      <td>1.5</td>\n",
       "      <td>0</td>\n",
       "      <td>0</td>\n",
       "      <td>0</td>\n",
       "    </tr>\n",
       "  </tbody>\n",
       "</table>\n",
       "<p>852 rows × 16 columns</p>\n",
       "</div>"
      ],
      "text/plain": [
       "     constant   CT o_station  month           hp    air           pop  inc  \\\n",
       "0           1  宜蘭縣   冬山(冬山區)      1  221751.6190  27.01    665.852742  590   \n",
       "1           1  宜蘭縣   冬山(冬山區)      2  174516.1957  35.54    665.802655  590   \n",
       "2           1  宜蘭縣   冬山(冬山區)      3  143657.7154  38.72    664.750814  590   \n",
       "3           1  宜蘭縣   冬山(冬山區)      4  181408.3219  51.12    663.110443  590   \n",
       "4           1  宜蘭縣   冬山(冬山區)      5  157317.5083  36.50    663.536188  590   \n",
       "..        ...  ...       ...    ...          ...    ...           ...  ...   \n",
       "847         1  臺南市   臺南(中西區)      8  190143.3828  25.41  12450.798720  655   \n",
       "848         1  臺南市   臺南(中西區)      9  174250.0904  46.89  12458.785940  655   \n",
       "849         1  臺南市   臺南(中西區)     10  169953.1429  67.50  12474.920130  655   \n",
       "850         1  臺南市   臺南(中西區)     11  164338.8639  68.77  12480.191690  655   \n",
       "851         1  臺南市   臺南(中西區)     12  171902.2292  72.22  12486.741210  655   \n",
       "\n",
       "     d_tra1      h_age     h_area  PM2.5  SO2  d_north  d_middle  d_east  \n",
       "0         1   9.967200  32.968091   11.6  2.3        1         0       0  \n",
       "1         1  14.800000  61.073182   10.4  1.9        1         0       0  \n",
       "2         1  18.526300  50.280697   21.9  2.4        1         0       0  \n",
       "3         1  16.758600  46.637697   13.8  3.2        1         0       0  \n",
       "4         1  13.666600  50.577636   11.8  2.4        1         0       0  \n",
       "..      ...        ...        ...    ...  ...      ...       ...     ...  \n",
       "847       1  23.827586  58.289812   34.8  2.8        0         0       0  \n",
       "848       1  24.596154  50.410140    7.8  1.5        0         0       0  \n",
       "849       1  24.698413  48.557143    6.9  1.2        0         0       0  \n",
       "850       1  29.655738  53.865176    8.4  1.3        0         0       0  \n",
       "851       1  27.107692  59.607972    3.7  1.5        0         0       0  \n",
       "\n",
       "[852 rows x 16 columns]"
      ]
     },
     "execution_count": 3,
     "metadata": {},
     "output_type": "execute_result"
    }
   ],
   "source": [
    "df"
   ]
  },
  {
   "cell_type": "code",
   "execution_count": 4,
   "metadata": {},
   "outputs": [
    {
     "data": {
      "text/html": [
       "<table class=\"simpletable\">\n",
       "<caption>OLS Regression Results</caption>\n",
       "<tr>\n",
       "  <th>Dep. Variable:</th>           <td>hp</td>        <th>  R-squared:         </th> <td>   0.592</td> \n",
       "</tr>\n",
       "<tr>\n",
       "  <th>Model:</th>                   <td>OLS</td>       <th>  Adj. R-squared:    </th> <td>   0.589</td> \n",
       "</tr>\n",
       "<tr>\n",
       "  <th>Method:</th>             <td>Least Squares</td>  <th>  F-statistic:       </th> <td>   194.7</td> \n",
       "</tr>\n",
       "<tr>\n",
       "  <th>Date:</th>             <td>Wed, 03 Feb 2021</td> <th>  Prob (F-statistic):</th> <td>5.27e-153</td>\n",
       "</tr>\n",
       "<tr>\n",
       "  <th>Time:</th>                 <td>22:43:23</td>     <th>  Log-Likelihood:    </th> <td> -10526.</td> \n",
       "</tr>\n",
       "<tr>\n",
       "  <th>No. Observations:</th>      <td>   812</td>      <th>  AIC:               </th> <td>2.107e+04</td>\n",
       "</tr>\n",
       "<tr>\n",
       "  <th>Df Residuals:</th>          <td>   805</td>      <th>  BIC:               </th> <td>2.110e+04</td>\n",
       "</tr>\n",
       "<tr>\n",
       "  <th>Df Model:</th>              <td>     6</td>      <th>                     </th>     <td> </td>    \n",
       "</tr>\n",
       "<tr>\n",
       "  <th>Covariance Type:</th>      <td>nonrobust</td>    <th>                     </th>     <td> </td>    \n",
       "</tr>\n",
       "</table>\n",
       "<table class=\"simpletable\">\n",
       "<tr>\n",
       "      <td></td>         <th>coef</th>     <th>std err</th>      <th>t</th>      <th>P>|t|</th>  <th>[0.025</th>    <th>0.975]</th>  \n",
       "</tr>\n",
       "<tr>\n",
       "  <th>Intercept</th> <td>-2.961e+05</td> <td> 4.72e+04</td> <td>   -6.278</td> <td> 0.000</td> <td>-3.89e+05</td> <td>-2.04e+05</td>\n",
       "</tr>\n",
       "<tr>\n",
       "  <th>air</th>       <td>-1709.2834</td> <td>  219.024</td> <td>   -7.804</td> <td> 0.000</td> <td>-2139.210</td> <td>-1279.357</td>\n",
       "</tr>\n",
       "<tr>\n",
       "  <th>pop</th>       <td>    7.6267</td> <td>    0.509</td> <td>   14.992</td> <td> 0.000</td> <td>    6.628</td> <td>    8.625</td>\n",
       "</tr>\n",
       "<tr>\n",
       "  <th>inc</th>       <td>  756.4747</td> <td>   66.750</td> <td>   11.333</td> <td> 0.000</td> <td>  625.449</td> <td>  887.500</td>\n",
       "</tr>\n",
       "<tr>\n",
       "  <th>d_tra1</th>    <td> 3.698e+04</td> <td> 7905.940</td> <td>    4.677</td> <td> 0.000</td> <td> 2.15e+04</td> <td> 5.25e+04</td>\n",
       "</tr>\n",
       "<tr>\n",
       "  <th>h_age</th>     <td> 2628.7847</td> <td>  530.377</td> <td>    4.956</td> <td> 0.000</td> <td> 1587.699</td> <td> 3669.870</td>\n",
       "</tr>\n",
       "<tr>\n",
       "  <th>h_area</th>    <td> -268.2911</td> <td>  204.775</td> <td>   -1.310</td> <td> 0.191</td> <td> -670.247</td> <td>  133.665</td>\n",
       "</tr>\n",
       "</table>\n",
       "<table class=\"simpletable\">\n",
       "<tr>\n",
       "  <th>Omnibus:</th>       <td>429.268</td> <th>  Durbin-Watson:     </th> <td>   0.388</td>\n",
       "</tr>\n",
       "<tr>\n",
       "  <th>Prob(Omnibus):</th> <td> 0.000</td>  <th>  Jarque-Bera (JB):  </th> <td>5265.311</td>\n",
       "</tr>\n",
       "<tr>\n",
       "  <th>Skew:</th>          <td> 2.108</td>  <th>  Prob(JB):          </th> <td>    0.00</td>\n",
       "</tr>\n",
       "<tr>\n",
       "  <th>Kurtosis:</th>      <td>14.741</td>  <th>  Cond. No.          </th> <td>1.44e+05</td>\n",
       "</tr>\n",
       "</table><br/><br/>Warnings:<br/>[1] Standard Errors assume that the covariance matrix of the errors is correctly specified.<br/>[2] The condition number is large, 1.44e+05. This might indicate that there are<br/>strong multicollinearity or other numerical problems."
      ],
      "text/plain": [
       "<class 'statsmodels.iolib.summary.Summary'>\n",
       "\"\"\"\n",
       "                            OLS Regression Results                            \n",
       "==============================================================================\n",
       "Dep. Variable:                     hp   R-squared:                       0.592\n",
       "Model:                            OLS   Adj. R-squared:                  0.589\n",
       "Method:                 Least Squares   F-statistic:                     194.7\n",
       "Date:                Wed, 03 Feb 2021   Prob (F-statistic):          5.27e-153\n",
       "Time:                        22:43:23   Log-Likelihood:                -10526.\n",
       "No. Observations:                 812   AIC:                         2.107e+04\n",
       "Df Residuals:                     805   BIC:                         2.110e+04\n",
       "Df Model:                           6                                         \n",
       "Covariance Type:            nonrobust                                         \n",
       "==============================================================================\n",
       "                 coef    std err          t      P>|t|      [0.025      0.975]\n",
       "------------------------------------------------------------------------------\n",
       "Intercept  -2.961e+05   4.72e+04     -6.278      0.000   -3.89e+05   -2.04e+05\n",
       "air        -1709.2834    219.024     -7.804      0.000   -2139.210   -1279.357\n",
       "pop            7.6267      0.509     14.992      0.000       6.628       8.625\n",
       "inc          756.4747     66.750     11.333      0.000     625.449     887.500\n",
       "d_tra1      3.698e+04   7905.940      4.677      0.000    2.15e+04    5.25e+04\n",
       "h_age       2628.7847    530.377      4.956      0.000    1587.699    3669.870\n",
       "h_area      -268.2911    204.775     -1.310      0.191    -670.247     133.665\n",
       "==============================================================================\n",
       "Omnibus:                      429.268   Durbin-Watson:                   0.388\n",
       "Prob(Omnibus):                  0.000   Jarque-Bera (JB):             5265.311\n",
       "Skew:                           2.108   Prob(JB):                         0.00\n",
       "Kurtosis:                      14.741   Cond. No.                     1.44e+05\n",
       "==============================================================================\n",
       "\n",
       "Warnings:\n",
       "[1] Standard Errors assume that the covariance matrix of the errors is correctly specified.\n",
       "[2] The condition number is large, 1.44e+05. This might indicate that there are\n",
       "strong multicollinearity or other numerical problems.\n",
       "\"\"\""
      ]
     },
     "execution_count": 4,
     "metadata": {},
     "output_type": "execute_result"
    }
   ],
   "source": [
    "# use package\n",
    "from statsmodels.formula.api import ols\n",
    "\n",
    "model = ols('hp ~ air + pop + inc + d_tra1 + h_age + h_area', data = df).fit()\n",
    "model.summary()"
   ]
  },
  {
   "cell_type": "markdown",
   "metadata": {},
   "source": [
    "# Hypothesis Testing\n",
    "## t Test"
   ]
  },
  {
   "cell_type": "code",
   "execution_count": 5,
   "metadata": {},
   "outputs": [
    {
     "data": {
      "text/html": [
       "<div>\n",
       "<style scoped>\n",
       "    .dataframe tbody tr th:only-of-type {\n",
       "        vertical-align: middle;\n",
       "    }\n",
       "\n",
       "    .dataframe tbody tr th {\n",
       "        vertical-align: top;\n",
       "    }\n",
       "\n",
       "    .dataframe thead th {\n",
       "        text-align: right;\n",
       "    }\n",
       "</style>\n",
       "<table border=\"1\" class=\"dataframe\">\n",
       "  <thead>\n",
       "    <tr style=\"text-align: right;\">\n",
       "      <th></th>\n",
       "      <th>constant</th>\n",
       "      <th>air</th>\n",
       "      <th>pop</th>\n",
       "      <th>inc</th>\n",
       "      <th>d_tra1</th>\n",
       "      <th>h_age</th>\n",
       "      <th>h_area</th>\n",
       "    </tr>\n",
       "  </thead>\n",
       "  <tbody>\n",
       "    <tr>\n",
       "      <th>0</th>\n",
       "      <td>1</td>\n",
       "      <td>27.01</td>\n",
       "      <td>665.852742</td>\n",
       "      <td>590</td>\n",
       "      <td>1</td>\n",
       "      <td>9.967200</td>\n",
       "      <td>32.968091</td>\n",
       "    </tr>\n",
       "    <tr>\n",
       "      <th>1</th>\n",
       "      <td>1</td>\n",
       "      <td>35.54</td>\n",
       "      <td>665.802655</td>\n",
       "      <td>590</td>\n",
       "      <td>1</td>\n",
       "      <td>14.800000</td>\n",
       "      <td>61.073182</td>\n",
       "    </tr>\n",
       "    <tr>\n",
       "      <th>2</th>\n",
       "      <td>1</td>\n",
       "      <td>38.72</td>\n",
       "      <td>664.750814</td>\n",
       "      <td>590</td>\n",
       "      <td>1</td>\n",
       "      <td>18.526300</td>\n",
       "      <td>50.280697</td>\n",
       "    </tr>\n",
       "    <tr>\n",
       "      <th>3</th>\n",
       "      <td>1</td>\n",
       "      <td>51.12</td>\n",
       "      <td>663.110443</td>\n",
       "      <td>590</td>\n",
       "      <td>1</td>\n",
       "      <td>16.758600</td>\n",
       "      <td>46.637697</td>\n",
       "    </tr>\n",
       "    <tr>\n",
       "      <th>4</th>\n",
       "      <td>1</td>\n",
       "      <td>36.50</td>\n",
       "      <td>663.536188</td>\n",
       "      <td>590</td>\n",
       "      <td>1</td>\n",
       "      <td>13.666600</td>\n",
       "      <td>50.577636</td>\n",
       "    </tr>\n",
       "    <tr>\n",
       "      <th>...</th>\n",
       "      <td>...</td>\n",
       "      <td>...</td>\n",
       "      <td>...</td>\n",
       "      <td>...</td>\n",
       "      <td>...</td>\n",
       "      <td>...</td>\n",
       "      <td>...</td>\n",
       "    </tr>\n",
       "    <tr>\n",
       "      <th>847</th>\n",
       "      <td>1</td>\n",
       "      <td>25.41</td>\n",
       "      <td>12450.798720</td>\n",
       "      <td>655</td>\n",
       "      <td>1</td>\n",
       "      <td>23.827586</td>\n",
       "      <td>58.289812</td>\n",
       "    </tr>\n",
       "    <tr>\n",
       "      <th>848</th>\n",
       "      <td>1</td>\n",
       "      <td>46.89</td>\n",
       "      <td>12458.785940</td>\n",
       "      <td>655</td>\n",
       "      <td>1</td>\n",
       "      <td>24.596154</td>\n",
       "      <td>50.410140</td>\n",
       "    </tr>\n",
       "    <tr>\n",
       "      <th>849</th>\n",
       "      <td>1</td>\n",
       "      <td>67.50</td>\n",
       "      <td>12474.920130</td>\n",
       "      <td>655</td>\n",
       "      <td>1</td>\n",
       "      <td>24.698413</td>\n",
       "      <td>48.557143</td>\n",
       "    </tr>\n",
       "    <tr>\n",
       "      <th>850</th>\n",
       "      <td>1</td>\n",
       "      <td>68.77</td>\n",
       "      <td>12480.191690</td>\n",
       "      <td>655</td>\n",
       "      <td>1</td>\n",
       "      <td>29.655738</td>\n",
       "      <td>53.865176</td>\n",
       "    </tr>\n",
       "    <tr>\n",
       "      <th>851</th>\n",
       "      <td>1</td>\n",
       "      <td>72.22</td>\n",
       "      <td>12486.741210</td>\n",
       "      <td>655</td>\n",
       "      <td>1</td>\n",
       "      <td>27.107692</td>\n",
       "      <td>59.607972</td>\n",
       "    </tr>\n",
       "  </tbody>\n",
       "</table>\n",
       "<p>852 rows × 7 columns</p>\n",
       "</div>"
      ],
      "text/plain": [
       "     constant    air           pop  inc  d_tra1      h_age     h_area\n",
       "0           1  27.01    665.852742  590       1   9.967200  32.968091\n",
       "1           1  35.54    665.802655  590       1  14.800000  61.073182\n",
       "2           1  38.72    664.750814  590       1  18.526300  50.280697\n",
       "3           1  51.12    663.110443  590       1  16.758600  46.637697\n",
       "4           1  36.50    663.536188  590       1  13.666600  50.577636\n",
       "..        ...    ...           ...  ...     ...        ...        ...\n",
       "847         1  25.41  12450.798720  655       1  23.827586  58.289812\n",
       "848         1  46.89  12458.785940  655       1  24.596154  50.410140\n",
       "849         1  67.50  12474.920130  655       1  24.698413  48.557143\n",
       "850         1  68.77  12480.191690  655       1  29.655738  53.865176\n",
       "851         1  72.22  12486.741210  655       1  27.107692  59.607972\n",
       "\n",
       "[852 rows x 7 columns]"
      ]
     },
     "execution_count": 5,
     "metadata": {},
     "output_type": "execute_result"
    }
   ],
   "source": [
    "# 去掉不需要的column\n",
    "df_X = df.drop(labels = 'CT', axis = 1)\n",
    "df_X = df_X.drop(labels = 'o_station', axis = 1)\n",
    "df_X = df_X.drop(labels = 'month', axis = 1)\n",
    "df_X = df_X.drop(labels = 'hp', axis = 1)\n",
    "df_X = df_X.drop(labels = 'd_north', axis = 1)\n",
    "df_X = df_X.drop(labels = 'd_middle', axis = 1)\n",
    "df_X = df_X.drop(labels = 'd_east', axis = 1)\n",
    "df_X = df_X.drop(labels = 'PM2.5', axis = 1)\n",
    "df_X = df_X.drop(labels = 'SO2', axis = 1)\n",
    "df_X"
   ]
  },
  {
   "cell_type": "code",
   "execution_count": 6,
   "metadata": {},
   "outputs": [
    {
     "data": {
      "text/html": [
       "<div>\n",
       "<style scoped>\n",
       "    .dataframe tbody tr th:only-of-type {\n",
       "        vertical-align: middle;\n",
       "    }\n",
       "\n",
       "    .dataframe tbody tr th {\n",
       "        vertical-align: top;\n",
       "    }\n",
       "\n",
       "    .dataframe thead th {\n",
       "        text-align: right;\n",
       "    }\n",
       "</style>\n",
       "<table border=\"1\" class=\"dataframe\">\n",
       "  <thead>\n",
       "    <tr style=\"text-align: right;\">\n",
       "      <th></th>\n",
       "      <th>constant</th>\n",
       "      <th>air</th>\n",
       "      <th>pop</th>\n",
       "      <th>inc</th>\n",
       "      <th>d_tra1</th>\n",
       "      <th>h_age</th>\n",
       "      <th>h_area</th>\n",
       "    </tr>\n",
       "  </thead>\n",
       "  <tbody>\n",
       "    <tr>\n",
       "      <th>0</th>\n",
       "      <td>1</td>\n",
       "      <td>27.01</td>\n",
       "      <td>665.852742</td>\n",
       "      <td>590</td>\n",
       "      <td>1</td>\n",
       "      <td>9.967200</td>\n",
       "      <td>32.968091</td>\n",
       "    </tr>\n",
       "    <tr>\n",
       "      <th>1</th>\n",
       "      <td>1</td>\n",
       "      <td>35.54</td>\n",
       "      <td>665.802655</td>\n",
       "      <td>590</td>\n",
       "      <td>1</td>\n",
       "      <td>14.800000</td>\n",
       "      <td>61.073182</td>\n",
       "    </tr>\n",
       "    <tr>\n",
       "      <th>2</th>\n",
       "      <td>1</td>\n",
       "      <td>38.72</td>\n",
       "      <td>664.750814</td>\n",
       "      <td>590</td>\n",
       "      <td>1</td>\n",
       "      <td>18.526300</td>\n",
       "      <td>50.280697</td>\n",
       "    </tr>\n",
       "    <tr>\n",
       "      <th>3</th>\n",
       "      <td>1</td>\n",
       "      <td>51.12</td>\n",
       "      <td>663.110443</td>\n",
       "      <td>590</td>\n",
       "      <td>1</td>\n",
       "      <td>16.758600</td>\n",
       "      <td>46.637697</td>\n",
       "    </tr>\n",
       "    <tr>\n",
       "      <th>4</th>\n",
       "      <td>1</td>\n",
       "      <td>36.50</td>\n",
       "      <td>663.536188</td>\n",
       "      <td>590</td>\n",
       "      <td>1</td>\n",
       "      <td>13.666600</td>\n",
       "      <td>50.577636</td>\n",
       "    </tr>\n",
       "    <tr>\n",
       "      <th>...</th>\n",
       "      <td>...</td>\n",
       "      <td>...</td>\n",
       "      <td>...</td>\n",
       "      <td>...</td>\n",
       "      <td>...</td>\n",
       "      <td>...</td>\n",
       "      <td>...</td>\n",
       "    </tr>\n",
       "    <tr>\n",
       "      <th>847</th>\n",
       "      <td>1</td>\n",
       "      <td>25.41</td>\n",
       "      <td>12450.798720</td>\n",
       "      <td>655</td>\n",
       "      <td>1</td>\n",
       "      <td>23.827586</td>\n",
       "      <td>58.289812</td>\n",
       "    </tr>\n",
       "    <tr>\n",
       "      <th>848</th>\n",
       "      <td>1</td>\n",
       "      <td>46.89</td>\n",
       "      <td>12458.785940</td>\n",
       "      <td>655</td>\n",
       "      <td>1</td>\n",
       "      <td>24.596154</td>\n",
       "      <td>50.410140</td>\n",
       "    </tr>\n",
       "    <tr>\n",
       "      <th>849</th>\n",
       "      <td>1</td>\n",
       "      <td>67.50</td>\n",
       "      <td>12474.920130</td>\n",
       "      <td>655</td>\n",
       "      <td>1</td>\n",
       "      <td>24.698413</td>\n",
       "      <td>48.557143</td>\n",
       "    </tr>\n",
       "    <tr>\n",
       "      <th>850</th>\n",
       "      <td>1</td>\n",
       "      <td>68.77</td>\n",
       "      <td>12480.191690</td>\n",
       "      <td>655</td>\n",
       "      <td>1</td>\n",
       "      <td>29.655738</td>\n",
       "      <td>53.865176</td>\n",
       "    </tr>\n",
       "    <tr>\n",
       "      <th>851</th>\n",
       "      <td>1</td>\n",
       "      <td>72.22</td>\n",
       "      <td>12486.741210</td>\n",
       "      <td>655</td>\n",
       "      <td>1</td>\n",
       "      <td>27.107692</td>\n",
       "      <td>59.607972</td>\n",
       "    </tr>\n",
       "  </tbody>\n",
       "</table>\n",
       "<p>812 rows × 7 columns</p>\n",
       "</div>"
      ],
      "text/plain": [
       "     constant    air           pop  inc  d_tra1      h_age     h_area\n",
       "0           1  27.01    665.852742  590       1   9.967200  32.968091\n",
       "1           1  35.54    665.802655  590       1  14.800000  61.073182\n",
       "2           1  38.72    664.750814  590       1  18.526300  50.280697\n",
       "3           1  51.12    663.110443  590       1  16.758600  46.637697\n",
       "4           1  36.50    663.536188  590       1  13.666600  50.577636\n",
       "..        ...    ...           ...  ...     ...        ...        ...\n",
       "847         1  25.41  12450.798720  655       1  23.827586  58.289812\n",
       "848         1  46.89  12458.785940  655       1  24.596154  50.410140\n",
       "849         1  67.50  12474.920130  655       1  24.698413  48.557143\n",
       "850         1  68.77  12480.191690  655       1  29.655738  53.865176\n",
       "851         1  72.22  12486.741210  655       1  27.107692  59.607972\n",
       "\n",
       "[812 rows x 7 columns]"
      ]
     },
     "execution_count": 6,
     "metadata": {},
     "output_type": "execute_result"
    }
   ],
   "source": [
    "# 去掉nan值\n",
    "df_X2 = df_X.dropna()\n",
    "df_X2"
   ]
  },
  {
   "cell_type": "code",
   "execution_count": 7,
   "metadata": {},
   "outputs": [],
   "source": [
    "# 把dataframe轉乘matrix\n",
    "X_matr = df_X2.values"
   ]
  },
  {
   "cell_type": "code",
   "execution_count": 8,
   "metadata": {},
   "outputs": [
    {
     "data": {
      "text/plain": [
       "(812, 7)"
      ]
     },
     "execution_count": 8,
     "metadata": {},
     "output_type": "execute_result"
    }
   ],
   "source": [
    "# 2d matrix\n",
    "X_matr.shape"
   ]
  },
  {
   "cell_type": "code",
   "execution_count": 9,
   "metadata": {},
   "outputs": [],
   "source": [
    "df_y = df.dropna()"
   ]
  },
  {
   "cell_type": "code",
   "execution_count": 10,
   "metadata": {},
   "outputs": [],
   "source": [
    "# 1d matrix\n",
    "y = df_y['hp'].values"
   ]
  },
  {
   "cell_type": "code",
   "execution_count": 11,
   "metadata": {},
   "outputs": [],
   "source": [
    "y_matr = y.reshape(812, 1)"
   ]
  },
  {
   "cell_type": "code",
   "execution_count": 12,
   "metadata": {
    "scrolled": true
   },
   "outputs": [
    {
     "data": {
      "text/plain": [
       "(812, 1)"
      ]
     },
     "execution_count": 12,
     "metadata": {},
     "output_type": "execute_result"
    }
   ],
   "source": [
    "# 2d matrix\n",
    "y_matr.shape"
   ]
  },
  {
   "cell_type": "code",
   "execution_count": 13,
   "metadata": {},
   "outputs": [],
   "source": [
    "# 算出Beta hat\n",
    "C = X_matr.transpose().dot(X_matr)\n",
    "C_inv = np.linalg.inv(C)\n",
    "B_hat = C_inv.dot(X_matr.transpose()).dot(y_matr)"
   ]
  },
  {
   "cell_type": "code",
   "execution_count": 14,
   "metadata": {},
   "outputs": [],
   "source": [
    "y_hat = X_matr.dot(B_hat)"
   ]
  },
  {
   "cell_type": "code",
   "execution_count": 15,
   "metadata": {},
   "outputs": [],
   "source": [
    "e_hat = y_matr - y_hat"
   ]
  },
  {
   "cell_type": "code",
   "execution_count": 16,
   "metadata": {},
   "outputs": [],
   "source": [
    "sigmasquare_hat = e_hat.transpose().dot(e_hat) / (len(y) - len(B_hat))"
   ]
  },
  {
   "cell_type": "code",
   "execution_count": 17,
   "metadata": {},
   "outputs": [
    {
     "data": {
      "text/plain": [
       "array([[1.07273333e+10]])"
      ]
     },
     "execution_count": 17,
     "metadata": {},
     "output_type": "execute_result"
    }
   ],
   "source": [
    "# Var(y) = sigma_square 之估計式\n",
    "sigmasquare_hat"
   ]
  },
  {
   "cell_type": "code",
   "execution_count": 18,
   "metadata": {},
   "outputs": [],
   "source": [
    "import math "
   ]
  },
  {
   "cell_type": "code",
   "execution_count": 19,
   "metadata": {},
   "outputs": [
    {
     "data": {
      "text/plain": [
       "103572.84054268137"
      ]
     },
     "execution_count": 19,
     "metadata": {},
     "output_type": "execute_result"
    }
   ],
   "source": [
    "sigmasquare_hat_2 = sigmasquare_hat[0][0]\n",
    "sigma_hat = math.sqrt(sigmasquare_hat_2)\n",
    "sigma_hat"
   ]
  },
  {
   "cell_type": "markdown",
   "metadata": {},
   "source": [
    "### Ho: Bi = 0"
   ]
  },
  {
   "cell_type": "code",
   "execution_count": 20,
   "metadata": {},
   "outputs": [
    {
     "name": "stdout",
     "output_type": "stream",
     "text": [
      "t-ratio 0 = -6.277805543863521\n",
      "t-ratio 1 = -7.804081589746833\n",
      "t-ratio 2 = 14.992037553547188\n",
      "t-ratio 3 = 11.332873761733813\n",
      "t-ratio 4 = 4.677375823106141\n",
      "t-ratio 5 = 4.956443562436785\n",
      "t-ratio 6 = -1.3101753071696909\n"
     ]
    }
   ],
   "source": [
    "for i in range(7):\n",
    "    a = np.array([[0,0,0,0,0,0,0]])\n",
    "    a[0][i] = 1\n",
    "    R = np.array([[0,0,0,0,0,0,0]]) + a\n",
    "    m = R.dot(C_inv).dot(R.transpose())  # R(X'X)^(-1)R'\n",
    "    m_2 = m[0][0]\n",
    "    t_statistic = B_hat[i][0] / (sigma_hat * math.sqrt(m_2))\n",
    "    print('t-ratio',i,'=',t_statistic)"
   ]
  },
  {
   "cell_type": "markdown",
   "metadata": {},
   "source": [
    "### Ho: 3B2 + 2B3 = 0"
   ]
  },
  {
   "cell_type": "code",
   "execution_count": 21,
   "metadata": {},
   "outputs": [
    {
     "name": "stdout",
     "output_type": "stream",
     "text": [
      "t_statistic = 11.574212557750071\n"
     ]
    }
   ],
   "source": [
    "R = np.array([[0, 0, 3, 2, 0, 0, 0]])\n",
    "m = R.dot(C_inv).dot(R.transpose())\n",
    "m_2 = m[0][0]\n",
    "t_statistic = R.dot(B_hat)[0][0] / (sigma_hat * math.sqrt(m_2))\n",
    "print('t_statistic =',t_statistic)"
   ]
  },
  {
   "cell_type": "markdown",
   "metadata": {},
   "source": [
    "### Ho: B1 + B2 = 1"
   ]
  },
  {
   "cell_type": "code",
   "execution_count": 22,
   "metadata": {},
   "outputs": [
    {
     "name": "stdout",
     "output_type": "stream",
     "text": [
      "t_statistic = -7.773729406579266\n"
     ]
    }
   ],
   "source": [
    "R = np.array([[0, 1, 1, 0, 0, 0, 0]])\n",
    "m = R.dot(C_inv).dot(R.transpose())\n",
    "m_2 = m[0][0]\n",
    "t_statistic = (R.dot(B_hat)[0][0] - 1) / (sigma_hat * math.sqrt(m_2))\n",
    "print('t_statistic =',t_statistic)"
   ]
  },
  {
   "cell_type": "markdown",
   "metadata": {},
   "source": [
    "# R square"
   ]
  },
  {
   "cell_type": "code",
   "execution_count": 23,
   "metadata": {},
   "outputs": [
    {
     "data": {
      "text/plain": [
       "63123055140805.97"
      ]
     },
     "execution_count": 23,
     "metadata": {},
     "output_type": "execute_result"
    }
   ],
   "source": [
    "tss = y_matr.transpose().dot(y_matr)[0][0]\n",
    "tss"
   ]
  },
  {
   "cell_type": "code",
   "execution_count": 24,
   "metadata": {},
   "outputs": [
    {
     "data": {
      "text/plain": [
       "54487551835854.72"
      ]
     },
     "execution_count": 24,
     "metadata": {},
     "output_type": "execute_result"
    }
   ],
   "source": [
    "# regression sum of square\n",
    "rss = y_hat.transpose().dot(y_hat)[0][0]\n",
    "rss"
   ]
  },
  {
   "cell_type": "code",
   "execution_count": 25,
   "metadata": {},
   "outputs": [
    {
     "data": {
      "text/plain": [
       "8635503304954.158"
      ]
     },
     "execution_count": 25,
     "metadata": {},
     "output_type": "execute_result"
    }
   ],
   "source": [
    "# error sum of square\n",
    "ess = e_hat.transpose().dot(e_hat)[0][0]\n",
    "ess"
   ]
  },
  {
   "cell_type": "code",
   "execution_count": 26,
   "metadata": {},
   "outputs": [
    {
     "data": {
      "text/plain": [
       "0.8631957327526624"
      ]
     },
     "execution_count": 26,
     "metadata": {},
     "output_type": "execute_result"
    }
   ],
   "source": [
    "R2 = rss / tss\n",
    "R2"
   ]
  },
  {
   "cell_type": "markdown",
   "metadata": {},
   "source": [
    "# Centered R square"
   ]
  },
  {
   "cell_type": "code",
   "execution_count": 27,
   "metadata": {},
   "outputs": [
    {
     "data": {
      "text/plain": [
       "227305.9216427217"
      ]
     },
     "execution_count": 27,
     "metadata": {},
     "output_type": "execute_result"
    }
   ],
   "source": [
    "y_bar = np.mean(y_matr)\n",
    "y_bar"
   ]
  },
  {
   "cell_type": "code",
   "execution_count": 28,
   "metadata": {},
   "outputs": [
    {
     "data": {
      "text/plain": [
       "227305.92164272952"
      ]
     },
     "execution_count": 28,
     "metadata": {},
     "output_type": "execute_result"
    }
   ],
   "source": [
    "# y_bar = yhat_bar\n",
    "yhat_bar = np.mean(y_hat)\n",
    "yhat_bar"
   ]
  },
  {
   "cell_type": "code",
   "execution_count": 29,
   "metadata": {},
   "outputs": [
    {
     "data": {
      "text/plain": [
       "21168653745562.11"
      ]
     },
     "execution_count": 29,
     "metadata": {},
     "output_type": "execute_result"
    }
   ],
   "source": [
    "Ctss = 0\n",
    "for i in range(len(y_matr)):\n",
    "    Ctss = Ctss + (y_matr[i][0] - y_bar)**2\n",
    "Ctss"
   ]
  },
  {
   "cell_type": "code",
   "execution_count": 30,
   "metadata": {},
   "outputs": [
    {
     "data": {
      "text/plain": [
       "12533150440607.963"
      ]
     },
     "execution_count": 30,
     "metadata": {},
     "output_type": "execute_result"
    }
   ],
   "source": [
    "Crss = 0\n",
    "for i in range(len(y_hat)):\n",
    "    Crss = Crss + (y_hat[i][0] - yhat_bar)**2\n",
    "Crss"
   ]
  },
  {
   "cell_type": "code",
   "execution_count": 31,
   "metadata": {},
   "outputs": [
    {
     "data": {
      "text/plain": [
       "8635503304954.158"
      ]
     },
     "execution_count": 31,
     "metadata": {},
     "output_type": "execute_result"
    }
   ],
   "source": [
    "Cess = e_hat.transpose().dot(e_hat)[0][0]\n",
    "Cess"
   ]
  },
  {
   "cell_type": "code",
   "execution_count": 32,
   "metadata": {},
   "outputs": [
    {
     "data": {
      "text/plain": [
       "0.592061762228761"
      ]
     },
     "execution_count": 32,
     "metadata": {},
     "output_type": "execute_result"
    }
   ],
   "source": [
    "CR2 = Crss / Ctss\n",
    "CR2"
   ]
  },
  {
   "cell_type": "markdown",
   "metadata": {},
   "source": [
    "# Adjusted R square"
   ]
  },
  {
   "cell_type": "code",
   "execution_count": 33,
   "metadata": {},
   "outputs": [
    {
     "data": {
      "text/plain": [
       "0.5890212287795343"
      ]
     },
     "execution_count": 33,
     "metadata": {},
     "output_type": "execute_result"
    }
   ],
   "source": [
    "adjR2 = 1 - ( (len(y)-1)/(len(y)-len(B_hat)) ) * (1 - CR2)\n",
    "adjR2"
   ]
  },
  {
   "cell_type": "code",
   "execution_count": 34,
   "metadata": {},
   "outputs": [
    {
     "name": "stdout",
     "output_type": "stream",
     "text": [
      "R square = 0.8631957327526624\n",
      "Centered R square = 0.592061762228761\n",
      "Adjusted R square = 0.5890212287795343\n"
     ]
    }
   ],
   "source": [
    "print('R square =',R2)\n",
    "print('Centered R square =',CR2)\n",
    "print('Adjusted R square =',adjR2)"
   ]
  },
  {
   "cell_type": "markdown",
   "metadata": {},
   "source": [
    "# Joint Hypothesis Testing\n",
    "## F Test"
   ]
  },
  {
   "cell_type": "markdown",
   "metadata": {},
   "source": [
    "### Ho: B1=0, B2=0, ..... , B6=0"
   ]
  },
  {
   "cell_type": "code",
   "execution_count": 35,
   "metadata": {},
   "outputs": [
    {
     "data": {
      "text/plain": [
       "array([[0., 1., 0., 0., 0., 0., 0.],\n",
       "       [0., 0., 1., 0., 0., 0., 0.],\n",
       "       [0., 0., 0., 1., 0., 0., 0.],\n",
       "       [0., 0., 0., 0., 1., 0., 0.],\n",
       "       [0., 0., 0., 0., 0., 1., 0.],\n",
       "       [0., 0., 0., 0., 0., 0., 1.]])"
      ]
     },
     "execution_count": 35,
     "metadata": {},
     "output_type": "execute_result"
    }
   ],
   "source": [
    "R = np.zeros((6, 7))\n",
    "for i in range(6):\n",
    "    R[i][i+1] = 1\n",
    "R"
   ]
  },
  {
   "cell_type": "code",
   "execution_count": 36,
   "metadata": {},
   "outputs": [],
   "source": [
    "# (R*B_hat-r)'\n",
    "a = R.dot(B_hat)\n",
    "a_tr = a.transpose()"
   ]
  },
  {
   "cell_type": "code",
   "execution_count": 37,
   "metadata": {},
   "outputs": [
    {
     "data": {
      "text/plain": [
       "array([[-1.70928341e+03],\n",
       "       [ 7.62667111e+00],\n",
       "       [ 7.56474708e+02],\n",
       "       [ 3.69790506e+04],\n",
       "       [ 2.62878469e+03],\n",
       "       [-2.68291126e+02]])"
      ]
     },
     "execution_count": 37,
     "metadata": {},
     "output_type": "execute_result"
    }
   ],
   "source": [
    "a"
   ]
  },
  {
   "cell_type": "code",
   "execution_count": 38,
   "metadata": {},
   "outputs": [
    {
     "data": {
      "text/plain": [
       "array([[-1.70928341e+03,  7.62667111e+00,  7.56474708e+02,\n",
       "         3.69790506e+04,  2.62878469e+03, -2.68291126e+02]])"
      ]
     },
     "execution_count": 38,
     "metadata": {},
     "output_type": "execute_result"
    }
   ],
   "source": [
    "a_tr"
   ]
  },
  {
   "cell_type": "code",
   "execution_count": 39,
   "metadata": {},
   "outputs": [
    {
     "data": {
      "text/plain": [
       "array([[ 2.37131666e+05, -1.47851855e+07, -7.15102514e+04,\n",
       "        -8.29172857e+02, -1.54815782e+04,  4.78002088e+04],\n",
       "       [-1.47851855e+07,  6.72391083e+10,  2.52636192e+08,\n",
       "         1.05786041e+06,  1.26485796e+07, -3.08525080e+07],\n",
       "       [-7.15102514e+04,  2.52636192e+08,  3.54108268e+06,\n",
       "         4.62149754e+03, -3.39231286e+04, -3.59405496e+04],\n",
       "       [-8.29172857e+02,  1.05786041e+06,  4.62149754e+03,\n",
       "         1.94719212e+02,  5.29266168e+02, -1.43159188e+03],\n",
       "       [-1.54815782e+04,  1.26485796e+07, -3.39231286e+04,\n",
       "         5.29266168e+02,  4.48674739e+04, -2.33386457e+04],\n",
       "       [ 4.78002088e+04, -3.08525080e+07, -3.59405496e+04,\n",
       "        -1.43159188e+03, -2.33386457e+04,  2.87226364e+05]])"
      ]
     },
     "execution_count": 39,
     "metadata": {},
     "output_type": "execute_result"
    }
   ],
   "source": [
    "# [R(X'X)^-1R']^-1\n",
    "b = R.dot(C_inv).dot(R.transpose())\n",
    "b = np.linalg.inv(b)\n",
    "b"
   ]
  },
  {
   "cell_type": "code",
   "execution_count": 40,
   "metadata": {},
   "outputs": [
    {
     "name": "stdout",
     "output_type": "stream",
     "text": [
      "W_statistic(F statistic) = 194.7229892765538\n"
     ]
    }
   ],
   "source": [
    "W_statistic = (a_tr.dot(b).dot(a)) / (6 * sigmasquare_hat)\n",
    "print('W_statistic(F statistic) =',W_statistic[0][0])"
   ]
  },
  {
   "cell_type": "markdown",
   "metadata": {},
   "source": [
    "### H0:B1=2, B2+B3=1"
   ]
  },
  {
   "cell_type": "code",
   "execution_count": 41,
   "metadata": {},
   "outputs": [
    {
     "data": {
      "text/plain": [
       "array([[0, 2, 0, 0, 0, 0, 0],\n",
       "       [0, 0, 1, 1, 0, 0, 0]])"
      ]
     },
     "execution_count": 41,
     "metadata": {},
     "output_type": "execute_result"
    }
   ],
   "source": [
    "R = np.array([[0,2,0,0,0,0,0], [0,0,1,1,0,0,0]])\n",
    "R"
   ]
  },
  {
   "cell_type": "code",
   "execution_count": 42,
   "metadata": {},
   "outputs": [
    {
     "data": {
      "text/plain": [
       "(1, 2)"
      ]
     },
     "execution_count": 42,
     "metadata": {},
     "output_type": "execute_result"
    }
   ],
   "source": [
    "r = np.array([[2,1]])\n",
    "r.shape"
   ]
  },
  {
   "cell_type": "code",
   "execution_count": 43,
   "metadata": {},
   "outputs": [
    {
     "data": {
      "text/plain": [
       "(2, 1)"
      ]
     },
     "execution_count": 43,
     "metadata": {},
     "output_type": "execute_result"
    }
   ],
   "source": [
    "r = r.reshape(2,1)\n",
    "r.shape"
   ]
  },
  {
   "cell_type": "code",
   "execution_count": 44,
   "metadata": {},
   "outputs": [],
   "source": [
    "a = R.dot(B_hat) - r\n",
    "a_tr = a.transpose()"
   ]
  },
  {
   "cell_type": "code",
   "execution_count": 45,
   "metadata": {},
   "outputs": [],
   "source": [
    "b = R.dot(C_inv).dot(R.transpose())\n",
    "b = np.linalg.inv(b)"
   ]
  },
  {
   "cell_type": "code",
   "execution_count": 46,
   "metadata": {},
   "outputs": [
    {
     "name": "stdout",
     "output_type": "stream",
     "text": [
      "W_statistic = 102.02406028457706\n"
     ]
    }
   ],
   "source": [
    "W_statistic = (a_tr.dot(b).dot(a)) / (2 * sigmasquare_hat)\n",
    "print('W_statistic =',W_statistic[0][0])"
   ]
  },
  {
   "cell_type": "markdown",
   "metadata": {},
   "source": [
    "# Use Centered R square to test Ho: B1=0, B2=0, ..... , B6=0"
   ]
  },
  {
   "cell_type": "code",
   "execution_count": 47,
   "metadata": {},
   "outputs": [
    {
     "data": {
      "text/plain": [
       "194.72298927655427"
      ]
     },
     "execution_count": 47,
     "metadata": {},
     "output_type": "execute_result"
    }
   ],
   "source": [
    "W = ( CR2 * (len(y)-len(B_hat)) ) / ( 6 * (1 - CR2) )\n",
    "W"
   ]
  }
 ],
 "metadata": {
  "kernelspec": {
   "display_name": "Python 3",
   "language": "python",
   "name": "python3"
  },
  "language_info": {
   "codemirror_mode": {
    "name": "ipython",
    "version": 3
   },
   "file_extension": ".py",
   "mimetype": "text/x-python",
   "name": "python",
   "nbconvert_exporter": "python",
   "pygments_lexer": "ipython3",
   "version": "3.8.3"
  }
 },
 "nbformat": 4,
 "nbformat_minor": 4
}
